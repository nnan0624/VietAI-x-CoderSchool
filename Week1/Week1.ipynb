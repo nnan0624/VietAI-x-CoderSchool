{
 "cells": [
  {
   "cell_type": "code",
   "execution_count": null,
   "id": "8a825a5a",
   "metadata": {},
   "outputs": [],
   "source": [
    "# Ex1: Write a program to count positive and negative numbers in a list\n",
    "data1 = [-10, -21, -4, -45, -66, 93, 11, -4, -6, 12, 11, 4]"
   ]
  },
  {
   "cell_type": "code",
   "execution_count": 2,
   "id": "a35befef",
   "metadata": {},
   "outputs": [
    {
     "name": "stdout",
     "output_type": "stream",
     "text": [
      "Positive numbers count: 5\n",
      "Negative numbers count: 7\n"
     ]
    }
   ],
   "source": [
    "data1 = [-10, -21, -4, -45, -66, 93, 11, -4, -6, 12, 11, 4]\n",
    "\n",
    "# Initialize counters for positive and negative numbers\n",
    "positive_count = 0\n",
    "negative_count = 0\n",
    "\n",
    "# Iterate through the list and count positive and negative numbers\n",
    "for num in data1:\n",
    "    if num > 0:\n",
    "        positive_count += 1\n",
    "    elif num < 0:\n",
    "        negative_count += 1\n",
    "\n",
    "# Display the results\n",
    "print(\"Positive numbers count:\", positive_count)\n",
    "print(\"Negative numbers count:\", negative_count)\n"
   ]
  },
  {
   "cell_type": "markdown",
   "id": "5efd9f6c",
   "metadata": {},
   "source": [
    "# Exercise 2"
   ]
  },
  {
   "cell_type": "code",
   "execution_count": null,
   "id": "55f64f91",
   "metadata": {},
   "outputs": [],
   "source": [
    "# Ex2: Given a list, extract all elements whose frequency is greater than k.\n",
    "data2 = [4, 6, 4, 3, 3, 4, 3, 4, 3, 8]\n",
    "k = 3"
   ]
  },
  {
   "cell_type": "code",
   "execution_count": 3,
   "id": "a05007f3",
   "metadata": {},
   "outputs": [
    {
     "name": "stdout",
     "output_type": "stream",
     "text": [
      "Elements with frequency greater than 3 : [4, 3]\n"
     ]
    }
   ],
   "source": [
    "from collections import Counter\n",
    "\n",
    "# List of numbers and k value\n",
    "data2 = [4, 6, 4, 3, 3, 4, 3, 4, 3, 8]\n",
    "k = 3\n",
    "\n",
    "# Use Counter to count the frequency of each element\n",
    "frequency = Counter(data2)\n",
    "\n",
    "# Extract elements whose frequency is greater than k\n",
    "result = [item for item, count in frequency.items() if count > k]\n",
    "\n",
    "# Display the result\n",
    "print(\"Elements with frequency greater than\", k, \":\", result)\n"
   ]
  },
  {
   "cell_type": "markdown",
   "id": "809e604f",
   "metadata": {},
   "source": [
    "# Exercise 3"
   ]
  },
  {
   "cell_type": "code",
   "execution_count": null,
   "id": "261fb4ca",
   "metadata": {},
   "outputs": [],
   "source": [
    "# Ex3: find the strongest neighbour. Given an array of N positive integers.\n",
    "# The task is to find the maximum for every adjacent pair in the array.\n",
    "data3 = [4, 5, 6, 7, 3, 9, 11, 2, 10]"
   ]
  },
  {
   "cell_type": "code",
   "execution_count": 4,
   "id": "262e98c8",
   "metadata": {},
   "outputs": [
    {
     "name": "stdout",
     "output_type": "stream",
     "text": [
      "Strongest neighbors: [5, 6, 7, 7, 9, 11, 11, 10]\n"
     ]
    }
   ],
   "source": [
    "data3 = [4, 5, 6, 7, 3, 9, 11, 2, 10]\n",
    "\n",
    "# Function to find the strongest neighbour\n",
    "def strongest_neighbour(arr):\n",
    "    result = []\n",
    "    for i in range(len(arr) - 1):\n",
    "        # Find the maximum of adjacent pairs\n",
    "        result.append(max(arr[i], arr[i+1]))\n",
    "    return result\n",
    "\n",
    "# Call the function and display the result\n",
    "strongest_neighbors = strongest_neighbour(data3)\n",
    "print(\"Strongest neighbors:\", strongest_neighbors)"
   ]
  },
  {
   "cell_type": "markdown",
   "id": "0f6d44b6",
   "metadata": {},
   "source": [
    "# Exercise 4"
   ]
  },
  {
   "cell_type": "code",
   "execution_count": null,
   "id": "bd4592e2",
   "metadata": {},
   "outputs": [],
   "source": [
    "# Ex4: print all Possible Combinations from the three Digits\n",
    "data4 = [1, 2, 3]"
   ]
  },
  {
   "cell_type": "code",
   "execution_count": 5,
   "id": "167cf4d0",
   "metadata": {},
   "outputs": [
    {
     "name": "stdout",
     "output_type": "stream",
     "text": [
      "All possible combinations:\n",
      "(1, 2, 3)\n",
      "(1, 3, 2)\n",
      "(2, 1, 3)\n",
      "(2, 3, 1)\n",
      "(3, 1, 2)\n",
      "(3, 2, 1)\n"
     ]
    }
   ],
   "source": [
    "from itertools import permutations\n",
    "\n",
    "# List of digits\n",
    "data4 = [1, 2, 3]\n",
    "\n",
    "# Generate all permutations of the list\n",
    "combinations = permutations(data4, 3)\n",
    "\n",
    "# Print each combination\n",
    "print(\"All possible combinations:\")\n",
    "for combination in combinations:\n",
    "    print(combination)\n"
   ]
  },
  {
   "cell_type": "markdown",
   "id": "50470ca9",
   "metadata": {},
   "source": [
    "# Exercise 5"
   ]
  },
  {
   "cell_type": "code",
   "execution_count": null,
   "id": "18ff641f",
   "metadata": {},
   "outputs": [],
   "source": [
    "# Ex5: Given two matrices (2 nested lists), the task is to write a Python program\n",
    "# to add elements to each row from initial matrix.\n",
    "# For example: Input : test_list1 = [[4, 3, 5,], [1, 2, 3], [3, 7, 4]], test_list2 = [[1], [9], [8]]\n",
    "# Output : [[4, 3, 5, 1], [1, 2, 3, 9], [3, 7, 4, 8]]\n",
    "data5_list1 = [[4, 3, 5, ], [1, 2, 3], [3, 7, 4]]\n",
    "data5_list2 = [[1, 3], [9, 3, 5, 7], [8]]"
   ]
  },
  {
   "cell_type": "code",
   "execution_count": 1,
   "id": "5ce5ab3f",
   "metadata": {},
   "outputs": [
    {
     "name": "stdout",
     "output_type": "stream",
     "text": [
      "Resulting matrix: [[4, 3, 5, 1, 3], [1, 2, 3, 9, 3, 5, 7], [3, 7, 4, 8]]\n"
     ]
    }
   ],
   "source": [
    "# Input matrices\n",
    "data5_list1 = [[4, 3, 5], [1, 2, 3], [3, 7, 4]]\n",
    "data5_list2 = [[1, 3], [9, 3, 5, 7], [8]]\n",
    "\n",
    "# Function to add elements of two matrices row by row\n",
    "def add_matrices_rows(mat1, mat2):\n",
    "    result = []\n",
    "    for row1, row2 in zip(mat1, mat2):\n",
    "        result.append(row1 + row2)  # Add the elements of the corresponding rows\n",
    "    return result\n",
    "\n",
    "# Call the function and display the result\n",
    "result_matrix = add_matrices_rows(data5_list1, data5_list2)\n",
    "print(\"Resulting matrix:\", result_matrix)\n"
   ]
  },
  {
   "cell_type": "markdown",
   "id": "cfa5c314",
   "metadata": {},
   "source": [
    "# Exercise 6"
   ]
  },
  {
   "cell_type": "code",
   "execution_count": null,
   "id": "3148bbe9",
   "metadata": {},
   "outputs": [],
   "source": [
    "# Ex6:  Write a program which will find all such numbers which are divisible by 7\n",
    "# but are not a multiple of 5, between 2000 and 3200 (both included).\n",
    "# The numbers obtained should be printed in a comma-separated sequence on a single line."
   ]
  },
  {
   "cell_type": "code",
   "execution_count": 2,
   "id": "9f3bb172",
   "metadata": {},
   "outputs": [
    {
     "name": "stdout",
     "output_type": "stream",
     "text": [
      "2002, 2009, 2016, 2023, 2037, 2044, 2051, 2058, 2072, 2079, 2086, 2093, 2107, 2114, 2121, 2128, 2142, 2149, 2156, 2163, 2177, 2184, 2191, 2198, 2212, 2219, 2226, 2233, 2247, 2254, 2261, 2268, 2282, 2289, 2296, 2303, 2317, 2324, 2331, 2338, 2352, 2359, 2366, 2373, 2387, 2394, 2401, 2408, 2422, 2429, 2436, 2443, 2457, 2464, 2471, 2478, 2492, 2499, 2506, 2513, 2527, 2534, 2541, 2548, 2562, 2569, 2576, 2583, 2597, 2604, 2611, 2618, 2632, 2639, 2646, 2653, 2667, 2674, 2681, 2688, 2702, 2709, 2716, 2723, 2737, 2744, 2751, 2758, 2772, 2779, 2786, 2793, 2807, 2814, 2821, 2828, 2842, 2849, 2856, 2863, 2877, 2884, 2891, 2898, 2912, 2919, 2926, 2933, 2947, 2954, 2961, 2968, 2982, 2989, 2996, 3003, 3017, 3024, 3031, 3038, 3052, 3059, 3066, 3073, 3087, 3094, 3101, 3108, 3122, 3129, 3136, 3143, 3157, 3164, 3171, 3178, 3192, 3199\n"
     ]
    }
   ],
   "source": [
    "# Function to find numbers divisible by 7 but not a multiple of 5\n",
    "def find_numbers():\n",
    "    result = []\n",
    "    for num in range(2000, 3201): \n",
    "        if num % 7 == 0 and num % 5 != 0:\n",
    "            result.append(str(num))  \n",
    "    return result\n",
    "\n",
    "# Call the function and print the result as a comma-separated sequence\n",
    "numbers = find_numbers()\n",
    "print(\", \".join(numbers))"
   ]
  },
  {
   "cell_type": "markdown",
   "id": "b896526c",
   "metadata": {},
   "source": [
    "# Exercise 7"
   ]
  },
  {
   "cell_type": "code",
   "execution_count": null,
   "id": "3fd31ee6",
   "metadata": {},
   "outputs": [],
   "source": [
    "# Ex7: Write a program, which will find all such numbers between 1000 and 3000 (both included) such that each digit of the number is an even number.\n",
    "# The numbers obtained should be printed in a comma-separated sequence on a single line."
   ]
  },
  {
   "cell_type": "code",
   "execution_count": 3,
   "id": "ab589bb4",
   "metadata": {},
   "outputs": [
    {
     "name": "stdout",
     "output_type": "stream",
     "text": [
      "2000, 2002, 2004, 2006, 2008, 2020, 2022, 2024, 2026, 2028, 2040, 2042, 2044, 2046, 2048, 2060, 2062, 2064, 2066, 2068, 2080, 2082, 2084, 2086, 2088, 2200, 2202, 2204, 2206, 2208, 2220, 2222, 2224, 2226, 2228, 2240, 2242, 2244, 2246, 2248, 2260, 2262, 2264, 2266, 2268, 2280, 2282, 2284, 2286, 2288, 2400, 2402, 2404, 2406, 2408, 2420, 2422, 2424, 2426, 2428, 2440, 2442, 2444, 2446, 2448, 2460, 2462, 2464, 2466, 2468, 2480, 2482, 2484, 2486, 2488, 2600, 2602, 2604, 2606, 2608, 2620, 2622, 2624, 2626, 2628, 2640, 2642, 2644, 2646, 2648, 2660, 2662, 2664, 2666, 2668, 2680, 2682, 2684, 2686, 2688, 2800, 2802, 2804, 2806, 2808, 2820, 2822, 2824, 2826, 2828, 2840, 2842, 2844, 2846, 2848, 2860, 2862, 2864, 2866, 2868, 2880, 2882, 2884, 2886, 2888\n"
     ]
    }
   ],
   "source": [
    "# Function to check if all digits in a number are even\n",
    "def all_digits_even(num):\n",
    "    return all(int(digit) % 2 == 0 for digit in str(num))\n",
    "\n",
    "# Use list comprehension to find numbers with all even digits\n",
    "even_digit_numbers = [str(num) for num in range(1000, 3001) if all_digits_even(num)]\n",
    "\n",
    "# Print the result as a comma-separated sequence\n",
    "print(\", \".join(even_digit_numbers))\n"
   ]
  },
  {
   "cell_type": "markdown",
   "id": "c8846efd",
   "metadata": {},
   "source": [
    "# Exercise 8"
   ]
  },
  {
   "cell_type": "code",
   "execution_count": null,
   "id": "a8c0011d",
   "metadata": {},
   "outputs": [],
   "source": [
    "# Ex8: Let user type 2 words in English as input. Print out the output\n",
    "# which is the shortest chain according to the following rules:\n",
    "# - Each word in the chain has at least 3 letters\n",
    "# - The 2 input words from user will be used as the first and the last words of the chain\n",
    "# - 2 last letters of 1 word will be the same as 2 first letters of the next word in the chain\n",
    "# - All the words are from the file wordsEn.txt\n",
    "# - If there are multiple shortest chains, return any of them is sufficient\n"
   ]
  }
 ],
 "metadata": {
  "kernelspec": {
   "display_name": "Python 3",
   "language": "python",
   "name": "python3"
  },
  "language_info": {
   "codemirror_mode": {
    "name": "ipython",
    "version": 3
   },
   "file_extension": ".py",
   "mimetype": "text/x-python",
   "name": "python",
   "nbconvert_exporter": "python",
   "pygments_lexer": "ipython3",
   "version": "3.12.1"
  }
 },
 "nbformat": 4,
 "nbformat_minor": 5
}
